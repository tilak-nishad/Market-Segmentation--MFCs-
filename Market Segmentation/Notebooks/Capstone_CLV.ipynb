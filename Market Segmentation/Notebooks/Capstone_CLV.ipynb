{
 "cells": [
  {
   "cell_type": "code",
   "execution_count": 1,
   "metadata": {},
   "outputs": [],
   "source": [
    "import pandas as pd\n",
    "import matplotlib.pyplot as plt\n",
    "from datetime import datetime,date\n",
    "import calendar\n",
    "from sklearn.model_selection import KFold, cross_val_score, train_test_split\n",
    "from lifetimes.datasets import load_cdnow_summary_data_with_monetary_value\n",
    "import xgboost as xgb\n",
    "from sklearn.metrics import classification_report\n",
    "from lifetimes.utils  import summary_data_from_transaction_data\n",
    "from sklearn.cluster import KMeans"
   ]
  },
  {
   "cell_type": "code",
   "execution_count": 2,
   "metadata": {},
   "outputs": [
    {
     "name": "stderr",
     "output_type": "stream",
     "text": [
      "C:\\Anaconda3\\lib\\site-packages\\IPython\\core\\interactiveshell.py:3051: DtypeWarning: Columns (19) have mixed types. Specify dtype option on import or set low_memory=False.\n",
      "  interactivity=interactivity, compiler=compiler, result=result)\n"
     ]
    }
   ],
   "source": [
    "df = pd.read_csv('./Data/Blended_Data_Features_Removed.csv')"
   ]
  },
  {
   "cell_type": "code",
   "execution_count": 3,
   "metadata": {},
   "outputs": [
    {
     "data": {
      "text/html": [
       "<div>\n",
       "<style scoped>\n",
       "    .dataframe tbody tr th:only-of-type {\n",
       "        vertical-align: middle;\n",
       "    }\n",
       "\n",
       "    .dataframe tbody tr th {\n",
       "        vertical-align: top;\n",
       "    }\n",
       "\n",
       "    .dataframe thead th {\n",
       "        text-align: right;\n",
       "    }\n",
       "</style>\n",
       "<table border=\"1\" class=\"dataframe\">\n",
       "  <thead>\n",
       "    <tr style=\"text-align: right;\">\n",
       "      <th></th>\n",
       "      <th>Cust Type</th>\n",
       "      <th>Customer No.</th>\n",
       "      <th>District</th>\n",
       "      <th>Invoice Date</th>\n",
       "      <th>Job Card No</th>\n",
       "      <th>Labour Total</th>\n",
       "      <th>Make</th>\n",
       "      <th>Misc Total</th>\n",
       "      <th>Model</th>\n",
       "      <th>OSL Total</th>\n",
       "      <th>...</th>\n",
       "      <th>Name 2</th>\n",
       "      <th>House number and street</th>\n",
       "      <th>PO Box</th>\n",
       "      <th>City</th>\n",
       "      <th>Sales organization</th>\n",
       "      <th>ServiceTime_category</th>\n",
       "      <th>Description</th>\n",
       "      <th>Item Category</th>\n",
       "      <th>Order Quantity</th>\n",
       "      <th>Net value</th>\n",
       "    </tr>\n",
       "  </thead>\n",
       "  <tbody>\n",
       "    <tr>\n",
       "      <th>0</th>\n",
       "      <td>Retail</td>\n",
       "      <td>80479</td>\n",
       "      <td>Maharashtra</td>\n",
       "      <td>2015-06-19</td>\n",
       "      <td>227460</td>\n",
       "      <td>1802.05</td>\n",
       "      <td>FORD</td>\n",
       "      <td>0.0</td>\n",
       "      <td>FIESTA</td>\n",
       "      <td>0.0</td>\n",
       "      <td>...</td>\n",
       "      <td>Mumbai</td>\n",
       "      <td>8, Mira, Behind Ajit Palace Ho</td>\n",
       "      <td>401104.0</td>\n",
       "      <td>Thane</td>\n",
       "      <td>MFCB</td>\n",
       "      <td>super_fast</td>\n",
       "      <td>DISTILLED WATER, Paid Service-Minor, REPLACE H...</td>\n",
       "      <td>P001, P002</td>\n",
       "      <td>45.5</td>\n",
       "      <td>2201.78</td>\n",
       "    </tr>\n",
       "    <tr>\n",
       "      <th>1</th>\n",
       "      <td>Retail</td>\n",
       "      <td>E15810</td>\n",
       "      <td>Maharashtra</td>\n",
       "      <td>2016-07-20</td>\n",
       "      <td>413455</td>\n",
       "      <td>2874.80</td>\n",
       "      <td>MARUTI SUZUKI</td>\n",
       "      <td>0.0</td>\n",
       "      <td>SWIFT</td>\n",
       "      <td>0.0</td>\n",
       "      <td>...</td>\n",
       "      <td>Mumbai</td>\n",
       "      <td>8, Mira, Behind Ajit Palace Ho</td>\n",
       "      <td>401104.0</td>\n",
       "      <td>Thane</td>\n",
       "      <td>MFCB</td>\n",
       "      <td>mid</td>\n",
       "      <td>REPLACE FRONT SHOCK ABSORBER RHS, OIL FILTER-S...</td>\n",
       "      <td>P001, P002</td>\n",
       "      <td>202.5</td>\n",
       "      <td>6025.86</td>\n",
       "    </tr>\n",
       "    <tr>\n",
       "      <th>2</th>\n",
       "      <td>Retail</td>\n",
       "      <td>E15810</td>\n",
       "      <td>Maharashtra</td>\n",
       "      <td>2016-09-04</td>\n",
       "      <td>446448</td>\n",
       "      <td>2799.96</td>\n",
       "      <td>MARUTI SUZUKI</td>\n",
       "      <td>0.0</td>\n",
       "      <td>SWIFT</td>\n",
       "      <td>0.0</td>\n",
       "      <td>...</td>\n",
       "      <td>Mumbai</td>\n",
       "      <td>8, Mira, Behind Ajit Palace Ho</td>\n",
       "      <td>401104.0</td>\n",
       "      <td>Thane</td>\n",
       "      <td>MFCB</td>\n",
       "      <td>super_slow</td>\n",
       "      <td>REPLACE CAMSHAFT OIL SEAL, MISC LABOR 0.5 HOUR...</td>\n",
       "      <td>P001, P002</td>\n",
       "      <td>189.0</td>\n",
       "      <td>3464.00</td>\n",
       "    </tr>\n",
       "    <tr>\n",
       "      <th>3</th>\n",
       "      <td>Retail</td>\n",
       "      <td>73857</td>\n",
       "      <td>Maharashtra</td>\n",
       "      <td>2016-10-28</td>\n",
       "      <td>487708</td>\n",
       "      <td>554.95</td>\n",
       "      <td>HYUNDAI</td>\n",
       "      <td>0.0</td>\n",
       "      <td>VERNA</td>\n",
       "      <td>0.0</td>\n",
       "      <td>...</td>\n",
       "      <td>Mumbai</td>\n",
       "      <td>8, Mira, Behind Ajit Palace Ho</td>\n",
       "      <td>401104.0</td>\n",
       "      <td>Thane</td>\n",
       "      <td>MFCB</td>\n",
       "      <td>super_slow</td>\n",
       "      <td>MFC PROLEUM C14/SL 15W40, OIL FILTER VENTO, Pa...</td>\n",
       "      <td>P001, P002</td>\n",
       "      <td>7.0</td>\n",
       "      <td>2065.75</td>\n",
       "    </tr>\n",
       "    <tr>\n",
       "      <th>4</th>\n",
       "      <td>Retail</td>\n",
       "      <td>E25519</td>\n",
       "      <td>Maharashtra</td>\n",
       "      <td>2015-05-28</td>\n",
       "      <td>220109</td>\n",
       "      <td>75.02</td>\n",
       "      <td>MAHINDRA &amp;  MAHINDRA</td>\n",
       "      <td>0.0</td>\n",
       "      <td>LOGAN D</td>\n",
       "      <td>0.0</td>\n",
       "      <td>...</td>\n",
       "      <td>Mumbai</td>\n",
       "      <td>8, Mira, Behind Ajit Palace Ho</td>\n",
       "      <td>401104.0</td>\n",
       "      <td>Thane</td>\n",
       "      <td>MFCB</td>\n",
       "      <td>super_fast</td>\n",
       "      <td>WIPER T, NOZZLE-LH WS WASHER, REMOVE &amp; REFIT W...</td>\n",
       "      <td>P001, P002</td>\n",
       "      <td>13.0</td>\n",
       "      <td>653.45</td>\n",
       "    </tr>\n",
       "  </tbody>\n",
       "</table>\n",
       "<p>5 rows × 31 columns</p>\n",
       "</div>"
      ],
      "text/plain": [
       "  Cust Type Customer No.     District Invoice Date  Job Card No  Labour Total  \\\n",
       "0    Retail        80479  Maharashtra   2015-06-19       227460       1802.05   \n",
       "1    Retail       E15810  Maharashtra   2016-07-20       413455       2874.80   \n",
       "2    Retail       E15810  Maharashtra   2016-09-04       446448       2799.96   \n",
       "3    Retail        73857  Maharashtra   2016-10-28       487708        554.95   \n",
       "4    Retail       E25519  Maharashtra   2015-05-28       220109         75.02   \n",
       "\n",
       "                   Make  Misc Total    Model  OSL Total  ...  Name 2  \\\n",
       "0                  FORD         0.0   FIESTA        0.0  ...  Mumbai   \n",
       "1         MARUTI SUZUKI         0.0    SWIFT        0.0  ...  Mumbai   \n",
       "2         MARUTI SUZUKI         0.0    SWIFT        0.0  ...  Mumbai   \n",
       "3               HYUNDAI         0.0    VERNA        0.0  ...  Mumbai   \n",
       "4  MAHINDRA &  MAHINDRA         0.0  LOGAN D        0.0  ...  Mumbai   \n",
       "\n",
       "          House number and street    PO Box   City  Sales organization  \\\n",
       "0  8, Mira, Behind Ajit Palace Ho  401104.0  Thane                MFCB   \n",
       "1  8, Mira, Behind Ajit Palace Ho  401104.0  Thane                MFCB   \n",
       "2  8, Mira, Behind Ajit Palace Ho  401104.0  Thane                MFCB   \n",
       "3  8, Mira, Behind Ajit Palace Ho  401104.0  Thane                MFCB   \n",
       "4  8, Mira, Behind Ajit Palace Ho  401104.0  Thane                MFCB   \n",
       "\n",
       "  ServiceTime_category                                        Description  \\\n",
       "0           super_fast  DISTILLED WATER, Paid Service-Minor, REPLACE H...   \n",
       "1                  mid  REPLACE FRONT SHOCK ABSORBER RHS, OIL FILTER-S...   \n",
       "2           super_slow  REPLACE CAMSHAFT OIL SEAL, MISC LABOR 0.5 HOUR...   \n",
       "3           super_slow  MFC PROLEUM C14/SL 15W40, OIL FILTER VENTO, Pa...   \n",
       "4           super_fast  WIPER T, NOZZLE-LH WS WASHER, REMOVE & REFIT W...   \n",
       "\n",
       "  Item Category Order Quantity Net value  \n",
       "0    P001, P002           45.5   2201.78  \n",
       "1    P001, P002          202.5   6025.86  \n",
       "2    P001, P002          189.0   3464.00  \n",
       "3    P001, P002            7.0   2065.75  \n",
       "4    P001, P002           13.0    653.45  \n",
       "\n",
       "[5 rows x 31 columns]"
      ]
     },
     "execution_count": 3,
     "metadata": {},
     "output_type": "execute_result"
    }
   ],
   "source": [
    "df.head()"
   ]
  },
  {
   "cell_type": "code",
   "execution_count": 40,
   "metadata": {},
   "outputs": [],
   "source": [
    "summary=summary_data_from_transaction_data(df,'Customer No.','Invoice Date',monetary_value_col='Net value',observation_period_end='2016')"
   ]
  },
  {
   "cell_type": "code",
   "execution_count": 41,
   "metadata": {},
   "outputs": [
    {
     "data": {
      "text/html": [
       "<div>\n",
       "<style scoped>\n",
       "    .dataframe tbody tr th:only-of-type {\n",
       "        vertical-align: middle;\n",
       "    }\n",
       "\n",
       "    .dataframe tbody tr th {\n",
       "        vertical-align: top;\n",
       "    }\n",
       "\n",
       "    .dataframe thead th {\n",
       "        text-align: right;\n",
       "    }\n",
       "</style>\n",
       "<table border=\"1\" class=\"dataframe\">\n",
       "  <thead>\n",
       "    <tr style=\"text-align: right;\">\n",
       "      <th></th>\n",
       "      <th>frequency</th>\n",
       "      <th>recency</th>\n",
       "      <th>T</th>\n",
       "      <th>monetary_value</th>\n",
       "    </tr>\n",
       "    <tr>\n",
       "      <th>Customer No.</th>\n",
       "      <th></th>\n",
       "      <th></th>\n",
       "      <th></th>\n",
       "      <th></th>\n",
       "    </tr>\n",
       "  </thead>\n",
       "  <tbody>\n",
       "    <tr>\n",
       "      <th>100001</th>\n",
       "      <td>2.0</td>\n",
       "      <td>210.0</td>\n",
       "      <td>256.0</td>\n",
       "      <td>1602.655000</td>\n",
       "    </tr>\n",
       "    <tr>\n",
       "      <th>100003</th>\n",
       "      <td>0.0</td>\n",
       "      <td>0.0</td>\n",
       "      <td>258.0</td>\n",
       "      <td>0.000000</td>\n",
       "    </tr>\n",
       "    <tr>\n",
       "      <th>100004</th>\n",
       "      <td>0.0</td>\n",
       "      <td>0.0</td>\n",
       "      <td>258.0</td>\n",
       "      <td>0.000000</td>\n",
       "    </tr>\n",
       "    <tr>\n",
       "      <th>100006</th>\n",
       "      <td>0.0</td>\n",
       "      <td>0.0</td>\n",
       "      <td>256.0</td>\n",
       "      <td>0.000000</td>\n",
       "    </tr>\n",
       "    <tr>\n",
       "      <th>100007</th>\n",
       "      <td>1.0</td>\n",
       "      <td>243.0</td>\n",
       "      <td>258.0</td>\n",
       "      <td>4224.440000</td>\n",
       "    </tr>\n",
       "    <tr>\n",
       "      <th>...</th>\n",
       "      <td>...</td>\n",
       "      <td>...</td>\n",
       "      <td>...</td>\n",
       "      <td>...</td>\n",
       "    </tr>\n",
       "    <tr>\n",
       "      <th>MFCCM04</th>\n",
       "      <td>1.0</td>\n",
       "      <td>73.0</td>\n",
       "      <td>807.0</td>\n",
       "      <td>39513.980000</td>\n",
       "    </tr>\n",
       "    <tr>\n",
       "      <th>MFCCM14</th>\n",
       "      <td>12.0</td>\n",
       "      <td>1332.0</td>\n",
       "      <td>1345.0</td>\n",
       "      <td>41618.335833</td>\n",
       "    </tr>\n",
       "    <tr>\n",
       "      <th>MFCCM15</th>\n",
       "      <td>1.0</td>\n",
       "      <td>92.0</td>\n",
       "      <td>1341.0</td>\n",
       "      <td>6055.910000</td>\n",
       "    </tr>\n",
       "    <tr>\n",
       "      <th>MFCCM19</th>\n",
       "      <td>8.0</td>\n",
       "      <td>636.0</td>\n",
       "      <td>646.0</td>\n",
       "      <td>21243.922500</td>\n",
       "    </tr>\n",
       "    <tr>\n",
       "      <th>MFM15</th>\n",
       "      <td>44.0</td>\n",
       "      <td>452.0</td>\n",
       "      <td>1364.0</td>\n",
       "      <td>4843.592727</td>\n",
       "    </tr>\n",
       "  </tbody>\n",
       "</table>\n",
       "<p>47178 rows × 4 columns</p>\n",
       "</div>"
      ],
      "text/plain": [
       "              frequency  recency       T  monetary_value\n",
       "Customer No.                                            \n",
       "100001              2.0    210.0   256.0     1602.655000\n",
       "100003              0.0      0.0   258.0        0.000000\n",
       "100004              0.0      0.0   258.0        0.000000\n",
       "100006              0.0      0.0   256.0        0.000000\n",
       "100007              1.0    243.0   258.0     4224.440000\n",
       "...                 ...      ...     ...             ...\n",
       "MFCCM04             1.0     73.0   807.0    39513.980000\n",
       "MFCCM14            12.0   1332.0  1345.0    41618.335833\n",
       "MFCCM15             1.0     92.0  1341.0     6055.910000\n",
       "MFCCM19             8.0    636.0   646.0    21243.922500\n",
       "MFM15              44.0    452.0  1364.0     4843.592727\n",
       "\n",
       "[47178 rows x 4 columns]"
      ]
     },
     "execution_count": 41,
     "metadata": {},
     "output_type": "execute_result"
    }
   ],
   "source": [
    "summary"
   ]
  },
  {
   "cell_type": "code",
   "execution_count": 20,
   "metadata": {},
   "outputs": [
    {
     "data": {
      "text/plain": [
       "<matplotlib.axes._subplots.AxesSubplot at 0x209a67fa6d8>"
      ]
     },
     "execution_count": 20,
     "metadata": {},
     "output_type": "execute_result"
    },
    {
     "data": {
      "image/png": "[encoded data removed]",
      "text/plain": [
       "<Figure size 432x288 with 1 Axes>"
      ]
     },
     "metadata": {
      "needs_background": "light"
     },
     "output_type": "display_data"
    }
   ],
   "source": [
    "summary['frequency'].plot(kind='hist',bins=50)"
   ]
  },
  {
   "cell_type": "code",
   "execution_count": 21,
   "metadata": {},
   "outputs": [
    {
     "data": {
      "text/plain": [
       "<matplotlib.axes._subplots.AxesSubplot at 0x209a88a6f98>"
      ]
     },
     "execution_count": 21,
     "metadata": {},
     "output_type": "execute_result"
    },
    {
     "data": {
      "image/png": "[encoded data removed]",
      "text/plain": [
       "<Figure size 432x288 with 1 Axes>"
      ]
     },
     "metadata": {
      "needs_background": "light"
     },
     "output_type": "display_data"
    }
   ],
   "source": [
    "summary['recency'].plot(kind='hist',bins=50)"
   ]
  },
  {
   "cell_type": "code",
   "execution_count": 22,
   "metadata": {},
   "outputs": [
    {
     "name": "stdout",
     "output_type": "stream",
     "text": [
      "<lifetimes.BetaGeoFitter: fitted with 47178 subjects, a: 1.29, alpha: 58.84, b: 2.86, r: 0.27>\n"
     ]
    }
   ],
   "source": [
    "from lifetimes import BetaGeoFitter\n",
    "bgf=BetaGeoFitter(penalizer_coef=0.0)\n",
    "bgf.fit(summary['frequency'],summary['recency'],summary['T'])\n",
    "print(bgf)"
   ]
  },
  {
   "cell_type": "code",
   "execution_count": 23,
   "metadata": {},
   "outputs": [
    {
     "data": {
      "text/html": [
       "<div>\n",
       "<style scoped>\n",
       "    .dataframe tbody tr th:only-of-type {\n",
       "        vertical-align: middle;\n",
       "    }\n",
       "\n",
       "    .dataframe tbody tr th {\n",
       "        vertical-align: top;\n",
       "    }\n",
       "\n",
       "    .dataframe thead th {\n",
       "        text-align: right;\n",
       "    }\n",
       "</style>\n",
       "<table border=\"1\" class=\"dataframe\">\n",
       "  <thead>\n",
       "    <tr style=\"text-align: right;\">\n",
       "      <th></th>\n",
       "      <th>coef</th>\n",
       "      <th>se(coef)</th>\n",
       "      <th>lower 95% bound</th>\n",
       "      <th>upper 95% bound</th>\n",
       "    </tr>\n",
       "  </thead>\n",
       "  <tbody>\n",
       "    <tr>\n",
       "      <th>r</th>\n",
       "      <td>0.266902</td>\n",
       "      <td>0.004469</td>\n",
       "      <td>0.258142</td>\n",
       "      <td>0.275662</td>\n",
       "    </tr>\n",
       "    <tr>\n",
       "      <th>alpha</th>\n",
       "      <td>58.838075</td>\n",
       "      <td>1.540878</td>\n",
       "      <td>55.817955</td>\n",
       "      <td>61.858195</td>\n",
       "    </tr>\n",
       "    <tr>\n",
       "      <th>a</th>\n",
       "      <td>1.285122</td>\n",
       "      <td>0.103663</td>\n",
       "      <td>1.081943</td>\n",
       "      <td>1.488301</td>\n",
       "    </tr>\n",
       "    <tr>\n",
       "      <th>b</th>\n",
       "      <td>2.862238</td>\n",
       "      <td>0.272488</td>\n",
       "      <td>2.328161</td>\n",
       "      <td>3.396315</td>\n",
       "    </tr>\n",
       "  </tbody>\n",
       "</table>\n",
       "</div>"
      ],
      "text/plain": [
       "            coef  se(coef)  lower 95% bound  upper 95% bound\n",
       "r       0.266902  0.004469         0.258142         0.275662\n",
       "alpha  58.838075  1.540878        55.817955        61.858195\n",
       "a       1.285122  0.103663         1.081943         1.488301\n",
       "b       2.862238  0.272488         2.328161         3.396315"
      ]
     },
     "execution_count": 23,
     "metadata": {},
     "output_type": "execute_result"
    }
   ],
   "source": [
    "bgf.summary"
   ]
  },
  {
   "cell_type": "code",
   "execution_count": 24,
   "metadata": {},
   "outputs": [
    {
     "data": {
      "text/html": [
       "<div>\n",
       "<style scoped>\n",
       "    .dataframe tbody tr th:only-of-type {\n",
       "        vertical-align: middle;\n",
       "    }\n",
       "\n",
       "    .dataframe tbody tr th {\n",
       "        vertical-align: top;\n",
       "    }\n",
       "\n",
       "    .dataframe thead th {\n",
       "        text-align: right;\n",
       "    }\n",
       "</style>\n",
       "<table border=\"1\" class=\"dataframe\">\n",
       "  <thead>\n",
       "    <tr style=\"text-align: right;\">\n",
       "      <th></th>\n",
       "      <th>frequency</th>\n",
       "      <th>recency</th>\n",
       "      <th>T</th>\n",
       "      <th>monetary_value</th>\n",
       "      <th>pred_num</th>\n",
       "    </tr>\n",
       "    <tr>\n",
       "      <th>Customer No.</th>\n",
       "      <th></th>\n",
       "      <th></th>\n",
       "      <th></th>\n",
       "      <th></th>\n",
       "      <th></th>\n",
       "    </tr>\n",
       "  </thead>\n",
       "  <tbody>\n",
       "    <tr>\n",
       "      <th>MFCCM03</th>\n",
       "      <td>52.0</td>\n",
       "      <td>310.0</td>\n",
       "      <td>312.0</td>\n",
       "      <td>9799.239423</td>\n",
       "      <td>1.34</td>\n",
       "    </tr>\n",
       "    <tr>\n",
       "      <th>E11328</th>\n",
       "      <td>23.0</td>\n",
       "      <td>161.0</td>\n",
       "      <td>162.0</td>\n",
       "      <td>11713.277391</td>\n",
       "      <td>0.97</td>\n",
       "    </tr>\n",
       "    <tr>\n",
       "      <th>E2003</th>\n",
       "      <td>44.0</td>\n",
       "      <td>561.0</td>\n",
       "      <td>562.0</td>\n",
       "      <td>42056.542955</td>\n",
       "      <td>0.69</td>\n",
       "    </tr>\n",
       "    <tr>\n",
       "      <th>104031</th>\n",
       "      <td>15.0</td>\n",
       "      <td>226.0</td>\n",
       "      <td>234.0</td>\n",
       "      <td>1112.023333</td>\n",
       "      <td>0.46</td>\n",
       "    </tr>\n",
       "    <tr>\n",
       "      <th>120968</th>\n",
       "      <td>13.0</td>\n",
       "      <td>112.0</td>\n",
       "      <td>135.0</td>\n",
       "      <td>4713.404615</td>\n",
       "      <td>0.46</td>\n",
       "    </tr>\n",
       "    <tr>\n",
       "      <th>58803</th>\n",
       "      <td>32.0</td>\n",
       "      <td>579.0</td>\n",
       "      <td>598.0</td>\n",
       "      <td>1396.296250</td>\n",
       "      <td>0.44</td>\n",
       "    </tr>\n",
       "    <tr>\n",
       "      <th>E11308</th>\n",
       "      <td>24.0</td>\n",
       "      <td>304.0</td>\n",
       "      <td>336.0</td>\n",
       "      <td>17623.180833</td>\n",
       "      <td>0.44</td>\n",
       "    </tr>\n",
       "    <tr>\n",
       "      <th>75256</th>\n",
       "      <td>23.0</td>\n",
       "      <td>430.0</td>\n",
       "      <td>437.0</td>\n",
       "      <td>999.990870</td>\n",
       "      <td>0.43</td>\n",
       "    </tr>\n",
       "    <tr>\n",
       "      <th>124525</th>\n",
       "      <td>5.0</td>\n",
       "      <td>37.0</td>\n",
       "      <td>39.0</td>\n",
       "      <td>1078.948000</td>\n",
       "      <td>0.43</td>\n",
       "    </tr>\n",
       "    <tr>\n",
       "      <th>115870</th>\n",
       "      <td>11.0</td>\n",
       "      <td>157.0</td>\n",
       "      <td>166.0</td>\n",
       "      <td>436.593636</td>\n",
       "      <td>0.42</td>\n",
       "    </tr>\n",
       "  </tbody>\n",
       "</table>\n",
       "</div>"
      ],
      "text/plain": [
       "              frequency  recency      T  monetary_value  pred_num\n",
       "Customer No.                                                     \n",
       "MFCCM03            52.0    310.0  312.0     9799.239423      1.34\n",
       "E11328             23.0    161.0  162.0    11713.277391      0.97\n",
       "E2003              44.0    561.0  562.0    42056.542955      0.69\n",
       "104031             15.0    226.0  234.0     1112.023333      0.46\n",
       "120968             13.0    112.0  135.0     4713.404615      0.46\n",
       "58803              32.0    579.0  598.0     1396.296250      0.44\n",
       "E11308             24.0    304.0  336.0    17623.180833      0.44\n",
       "75256              23.0    430.0  437.0      999.990870      0.43\n",
       "124525              5.0     37.0   39.0     1078.948000      0.43\n",
       "115870             11.0    157.0  166.0      436.593636      0.42"
      ]
     },
     "execution_count": 24,
     "metadata": {},
     "output_type": "execute_result"
    }
   ],
   "source": [
    "t=10\n",
    "\n",
    "summary['pred_num']=round(bgf.conditional_expected_number_of_purchases_up_to_time(t,summary['frequency'],summary['recency'], summary['T']),2)\n",
    "summary.sort_values(by='pred_num', ascending=False).head(10)"
   ]
  },
  {
   "cell_type": "code",
   "execution_count": 25,
   "metadata": {},
   "outputs": [
    {
     "data": {
      "text/plain": [
       "<matplotlib.axes._subplots.AxesSubplot at 0x209addd9ba8>"
      ]
     },
     "execution_count": 25,
     "metadata": {},
     "output_type": "execute_result"
    },
    {
     "data": {
      "image/png": "[encoded data removed]",
      "text/plain": [
       "<Figure size 432x288 with 2 Axes>"
      ]
     },
     "metadata": {
      "needs_background": "light"
     },
     "output_type": "display_data"
    }
   ],
   "source": [
    "from lifetimes.plotting import plot_frequency_recency_matrix\n",
    "\n",
    "plot_frequency_recency_matrix(bgf)"
   ]
  },
  {
   "cell_type": "code",
   "execution_count": 26,
   "metadata": {},
   "outputs": [
    {
     "data": {
      "text/plain": [
       "<matplotlib.axes._subplots.AxesSubplot at 0x209afe08128>"
      ]
     },
     "execution_count": 26,
     "metadata": {},
     "output_type": "execute_result"
    },
    {
     "data": {
      "image/png": "[encoded data removed]",
      "text/plain": [
       "<Figure size 432x288 with 2 Axes>"
      ]
     },
     "metadata": {
      "needs_background": "light"
     },
     "output_type": "display_data"
    }
   ],
   "source": [
    "from lifetimes.plotting import plot_probability_alive_matrix\n",
    "\n",
    "plot_probability_alive_matrix(bgf)"
   ]
  },
  {
   "cell_type": "code",
   "execution_count": 27,
   "metadata": {},
   "outputs": [
    {
     "data": {
      "text/plain": [
       "<matplotlib.axes._subplots.AxesSubplot at 0x209afde1da0>"
      ]
     },
     "execution_count": 27,
     "metadata": {},
     "output_type": "execute_result"
    },
    {
     "data": {
      "image/png": "[encoded data removed]",
      "text/plain": [
       "<Figure size 432x288 with 1 Axes>"
      ]
     },
     "metadata": {
      "needs_background": "light"
     },
     "output_type": "display_data"
    }
   ],
   "source": [
    "from lifetimes.plotting import plot_period_transactions\n",
    "plot_period_transactions(bgf)"
   ]
  },
  {
   "cell_type": "code",
   "execution_count": 35,
   "metadata": {},
   "outputs": [
    {
     "name": "stdout",
     "output_type": "stream",
     "text": [
      "              frequency_cal  recency_cal  T_cal  frequency_holdout  \\\n",
      "Customer No.                                                         \n",
      "100001                  2.0        210.0  499.0                0.0   \n",
      "100003                  0.0          0.0  501.0                0.0   \n",
      "100004                  0.0          0.0  501.0                0.0   \n",
      "100006                  0.0          0.0  499.0                0.0   \n",
      "100007                  4.0        473.0  501.0                0.0   \n",
      "\n",
      "              duration_holdout  \n",
      "Customer No.                    \n",
      "100001                      61  \n",
      "100003                      61  \n",
      "100004                      61  \n",
      "100006                      61  \n",
      "100007                      61  \n"
     ]
    }
   ],
   "source": [
    "from lifetimes.utils import calibration_and_holdout_data\n",
    "\n",
    "summary_cal_holdout = calibration_and_holdout_data(df, 'Customer No.', 'Invoice Date',\n",
    "                                        calibration_period_end='2016-08-31',\n",
    "                                        observation_period_end='2016-10-31' )\n",
    "print(summary_cal_holdout.head())"
   ]
  },
  {
   "cell_type": "code",
   "execution_count": 36,
   "metadata": {},
   "outputs": [
    {
     "data": {
      "text/plain": [
       "<matplotlib.axes._subplots.AxesSubplot at 0x209badf4278>"
      ]
     },
     "execution_count": 36,
     "metadata": {},
     "output_type": "execute_result"
    },
    {
     "data": {
      "image/png": "[encoded data removed]",
      "text/plain": [
       "<Figure size 432x288 with 1 Axes>"
      ]
     },
     "metadata": {
      "needs_background": "light"
     },
     "output_type": "display_data"
    }
   ],
   "source": [
    "from lifetimes.plotting import plot_calibration_purchases_vs_holdout_purchases\n",
    "\n",
    "bgf.fit(summary_cal_holdout['frequency_cal'], summary_cal_holdout['recency_cal'], summary_cal_holdout['T_cal'])\n",
    "plot_calibration_purchases_vs_holdout_purchases(bgf, summary_cal_holdout)"
   ]
  },
  {
   "cell_type": "code",
   "execution_count": 59,
   "metadata": {},
   "outputs": [],
   "source": [
    "kmeans = KMeans(n_clusters=4)\n",
    "kmeans.fit(summary[['recency']])\n",
    "summary['RecencyCluster'] = kmeans.predict(summary[['recency']])"
   ]
  },
  {
   "cell_type": "code",
   "execution_count": 60,
   "metadata": {},
   "outputs": [],
   "source": [
    "kmeans = KMeans(n_clusters=4)\n",
    "kmeans.fit(summary[['frequency']])\n",
    "summary['FrequencyCluster'] = kmeans.predict(summary[['frequency']])"
   ]
  },
  {
   "cell_type": "code",
   "execution_count": 62,
   "metadata": {},
   "outputs": [],
   "source": [
    "kmeans = KMeans(n_clusters=4)\n",
    "kmeans.fit(summary[['monetary_value']])\n",
    "summary['RevenueCluster'] = kmeans.predict(summary[['monetary_value']])"
   ]
  },
  {
   "cell_type": "code",
   "execution_count": 64,
   "metadata": {},
   "outputs": [],
   "source": [
    "#overall scoring\n",
    "summary['OverallScore'] = summary['RecencyCluster'] + summary['FrequencyCluster'] + summary['RevenueCluster']\n",
    "summary['Segment'] = 'Low-Value'\n",
    "summary.loc[summary['OverallScore']>2,'Segment'] = 'Mid-Value' \n",
    "summary.loc[summary['OverallScore']>4,'Segment'] = 'High-Value' "
   ]
  },
  {
   "cell_type": "code",
   "execution_count": 65,
   "metadata": {},
   "outputs": [
    {
     "data": {
      "text/html": [
       "<div>\n",
       "<style scoped>\n",
       "    .dataframe tbody tr th:only-of-type {\n",
       "        vertical-align: middle;\n",
       "    }\n",
       "\n",
       "    .dataframe tbody tr th {\n",
       "        vertical-align: top;\n",
       "    }\n",
       "\n",
       "    .dataframe thead th {\n",
       "        text-align: right;\n",
       "    }\n",
       "</style>\n",
       "<table border=\"1\" class=\"dataframe\">\n",
       "  <thead>\n",
       "    <tr style=\"text-align: right;\">\n",
       "      <th></th>\n",
       "      <th>frequency</th>\n",
       "      <th>recency</th>\n",
       "      <th>T</th>\n",
       "      <th>monetary_value</th>\n",
       "      <th>RecencyCluster</th>\n",
       "      <th>FrequencyCluster</th>\n",
       "      <th>RevenueCluster</th>\n",
       "      <th>OverallScore</th>\n",
       "      <th>Segment</th>\n",
       "    </tr>\n",
       "    <tr>\n",
       "      <th>Customer No.</th>\n",
       "      <th></th>\n",
       "      <th></th>\n",
       "      <th></th>\n",
       "      <th></th>\n",
       "      <th></th>\n",
       "      <th></th>\n",
       "      <th></th>\n",
       "      <th></th>\n",
       "      <th></th>\n",
       "    </tr>\n",
       "  </thead>\n",
       "  <tbody>\n",
       "    <tr>\n",
       "      <th>100001</th>\n",
       "      <td>2.0</td>\n",
       "      <td>210.0</td>\n",
       "      <td>256.0</td>\n",
       "      <td>1602.655000</td>\n",
       "      <td>0</td>\n",
       "      <td>2</td>\n",
       "      <td>0</td>\n",
       "      <td>2</td>\n",
       "      <td>Low-Value</td>\n",
       "    </tr>\n",
       "    <tr>\n",
       "      <th>100003</th>\n",
       "      <td>0.0</td>\n",
       "      <td>0.0</td>\n",
       "      <td>258.0</td>\n",
       "      <td>0.000000</td>\n",
       "      <td>1</td>\n",
       "      <td>0</td>\n",
       "      <td>0</td>\n",
       "      <td>1</td>\n",
       "      <td>Low-Value</td>\n",
       "    </tr>\n",
       "    <tr>\n",
       "      <th>100004</th>\n",
       "      <td>0.0</td>\n",
       "      <td>0.0</td>\n",
       "      <td>258.0</td>\n",
       "      <td>0.000000</td>\n",
       "      <td>1</td>\n",
       "      <td>0</td>\n",
       "      <td>0</td>\n",
       "      <td>1</td>\n",
       "      <td>Low-Value</td>\n",
       "    </tr>\n",
       "    <tr>\n",
       "      <th>100006</th>\n",
       "      <td>0.0</td>\n",
       "      <td>0.0</td>\n",
       "      <td>256.0</td>\n",
       "      <td>0.000000</td>\n",
       "      <td>1</td>\n",
       "      <td>0</td>\n",
       "      <td>0</td>\n",
       "      <td>1</td>\n",
       "      <td>Low-Value</td>\n",
       "    </tr>\n",
       "    <tr>\n",
       "      <th>100007</th>\n",
       "      <td>1.0</td>\n",
       "      <td>243.0</td>\n",
       "      <td>258.0</td>\n",
       "      <td>4224.440000</td>\n",
       "      <td>0</td>\n",
       "      <td>2</td>\n",
       "      <td>0</td>\n",
       "      <td>2</td>\n",
       "      <td>Low-Value</td>\n",
       "    </tr>\n",
       "    <tr>\n",
       "      <th>...</th>\n",
       "      <td>...</td>\n",
       "      <td>...</td>\n",
       "      <td>...</td>\n",
       "      <td>...</td>\n",
       "      <td>...</td>\n",
       "      <td>...</td>\n",
       "      <td>...</td>\n",
       "      <td>...</td>\n",
       "      <td>...</td>\n",
       "    </tr>\n",
       "    <tr>\n",
       "      <th>MFCCM04</th>\n",
       "      <td>1.0</td>\n",
       "      <td>73.0</td>\n",
       "      <td>807.0</td>\n",
       "      <td>39513.980000</td>\n",
       "      <td>1</td>\n",
       "      <td>2</td>\n",
       "      <td>1</td>\n",
       "      <td>4</td>\n",
       "      <td>Mid-Value</td>\n",
       "    </tr>\n",
       "    <tr>\n",
       "      <th>MFCCM14</th>\n",
       "      <td>12.0</td>\n",
       "      <td>1332.0</td>\n",
       "      <td>1345.0</td>\n",
       "      <td>41618.335833</td>\n",
       "      <td>3</td>\n",
       "      <td>3</td>\n",
       "      <td>1</td>\n",
       "      <td>7</td>\n",
       "      <td>High-Value</td>\n",
       "    </tr>\n",
       "    <tr>\n",
       "      <th>MFCCM15</th>\n",
       "      <td>1.0</td>\n",
       "      <td>92.0</td>\n",
       "      <td>1341.0</td>\n",
       "      <td>6055.910000</td>\n",
       "      <td>0</td>\n",
       "      <td>2</td>\n",
       "      <td>3</td>\n",
       "      <td>5</td>\n",
       "      <td>High-Value</td>\n",
       "    </tr>\n",
       "    <tr>\n",
       "      <th>MFCCM19</th>\n",
       "      <td>8.0</td>\n",
       "      <td>636.0</td>\n",
       "      <td>646.0</td>\n",
       "      <td>21243.922500</td>\n",
       "      <td>3</td>\n",
       "      <td>3</td>\n",
       "      <td>1</td>\n",
       "      <td>7</td>\n",
       "      <td>High-Value</td>\n",
       "    </tr>\n",
       "    <tr>\n",
       "      <th>MFM15</th>\n",
       "      <td>44.0</td>\n",
       "      <td>452.0</td>\n",
       "      <td>1364.0</td>\n",
       "      <td>4843.592727</td>\n",
       "      <td>2</td>\n",
       "      <td>3</td>\n",
       "      <td>3</td>\n",
       "      <td>8</td>\n",
       "      <td>High-Value</td>\n",
       "    </tr>\n",
       "  </tbody>\n",
       "</table>\n",
       "<p>47178 rows × 9 columns</p>\n",
       "</div>"
      ],
      "text/plain": [
       "              frequency  recency       T  monetary_value  RecencyCluster  \\\n",
       "Customer No.                                                               \n",
       "100001              2.0    210.0   256.0     1602.655000               0   \n",
       "100003              0.0      0.0   258.0        0.000000               1   \n",
       "100004              0.0      0.0   258.0        0.000000               1   \n",
       "100006              0.0      0.0   256.0        0.000000               1   \n",
       "100007              1.0    243.0   258.0     4224.440000               0   \n",
       "...                 ...      ...     ...             ...             ...   \n",
       "MFCCM04             1.0     73.0   807.0    39513.980000               1   \n",
       "MFCCM14            12.0   1332.0  1345.0    41618.335833               3   \n",
       "MFCCM15             1.0     92.0  1341.0     6055.910000               0   \n",
       "MFCCM19             8.0    636.0   646.0    21243.922500               3   \n",
       "MFM15              44.0    452.0  1364.0     4843.592727               2   \n",
       "\n",
       "              FrequencyCluster  RevenueCluster  OverallScore     Segment  \n",
       "Customer No.                                                              \n",
       "100001                       2               0             2   Low-Value  \n",
       "100003                       0               0             1   Low-Value  \n",
       "100004                       0               0             1   Low-Value  \n",
       "100006                       0               0             1   Low-Value  \n",
       "100007                       2               0             2   Low-Value  \n",
       "...                        ...             ...           ...         ...  \n",
       "MFCCM04                      2               1             4   Mid-Value  \n",
       "MFCCM14                      3               1             7  High-Value  \n",
       "MFCCM15                      2               3             5  High-Value  \n",
       "MFCCM19                      3               1             7  High-Value  \n",
       "MFM15                        3               3             8  High-Value  \n",
       "\n",
       "[47178 rows x 9 columns]"
      ]
     },
     "execution_count": 65,
     "metadata": {},
     "output_type": "execute_result"
    }
   ],
   "source": [
    "summary"
   ]
  },
  {
   "cell_type": "code",
   "execution_count": 6,
   "metadata": {},
   "outputs": [],
   "source": [
    "RevenueDF = df[['Customer No.','Invoice Date','Net value']]"
   ]
  },
  {
   "cell_type": "code",
   "execution_count": 7,
   "metadata": {},
   "outputs": [
    {
     "data": {
      "text/html": [
       "<div>\n",
       "<style scoped>\n",
       "    .dataframe tbody tr th:only-of-type {\n",
       "        vertical-align: middle;\n",
       "    }\n",
       "\n",
       "    .dataframe tbody tr th {\n",
       "        vertical-align: top;\n",
       "    }\n",
       "\n",
       "    .dataframe thead th {\n",
       "        text-align: right;\n",
       "    }\n",
       "</style>\n",
       "<table border=\"1\" class=\"dataframe\">\n",
       "  <thead>\n",
       "    <tr style=\"text-align: right;\">\n",
       "      <th></th>\n",
       "      <th>Customer No.</th>\n",
       "      <th>Invoice Date</th>\n",
       "      <th>Net value</th>\n",
       "    </tr>\n",
       "  </thead>\n",
       "  <tbody>\n",
       "    <tr>\n",
       "      <th>0</th>\n",
       "      <td>80479</td>\n",
       "      <td>2015-06-19</td>\n",
       "      <td>2201.78</td>\n",
       "    </tr>\n",
       "    <tr>\n",
       "      <th>1</th>\n",
       "      <td>E15810</td>\n",
       "      <td>2016-07-20</td>\n",
       "      <td>6025.86</td>\n",
       "    </tr>\n",
       "    <tr>\n",
       "      <th>2</th>\n",
       "      <td>E15810</td>\n",
       "      <td>2016-09-04</td>\n",
       "      <td>3464.00</td>\n",
       "    </tr>\n",
       "    <tr>\n",
       "      <th>3</th>\n",
       "      <td>73857</td>\n",
       "      <td>2016-10-28</td>\n",
       "      <td>2065.75</td>\n",
       "    </tr>\n",
       "    <tr>\n",
       "      <th>4</th>\n",
       "      <td>E25519</td>\n",
       "      <td>2015-05-28</td>\n",
       "      <td>653.45</td>\n",
       "    </tr>\n",
       "  </tbody>\n",
       "</table>\n",
       "</div>"
      ],
      "text/plain": [
       "  Customer No. Invoice Date  Net value\n",
       "0        80479   2015-06-19    2201.78\n",
       "1       E15810   2016-07-20    6025.86\n",
       "2       E15810   2016-09-04    3464.00\n",
       "3        73857   2016-10-28    2065.75\n",
       "4       E25519   2015-05-28     653.45"
      ]
     },
     "execution_count": 7,
     "metadata": {},
     "output_type": "execute_result"
    }
   ],
   "source": [
    "RevenueDF.head()"
   ]
  },
  {
   "cell_type": "code",
   "execution_count": null,
   "metadata": {},
   "outputs": [],
   "source": [
    "import pandas as pd\n",
    "import numpy as np\n",
    "from fbprophet import Prophet\n",
    "%matplotlib inline\n",
    "import matplotlib.pyplot as plt"
   ]
  },
  {
   "cell_type": "code",
   "execution_count": null,
   "metadata": {},
   "outputs": [],
   "source": [
    "pip install fbprophet"
   ]
  },
  {
   "cell_type": "code",
   "execution_count": null,
   "metadata": {},
   "outputs": [],
   "source": []
  }
 ],
 "metadata": {
  "kernelspec": {
   "display_name": "Python 3",
   "language": "python",
   "name": "python3"
  },
  "language_info": {
   "codemirror_mode": {
    "name": "ipython",
    "version": 3
   },
   "file_extension": ".py",
   "mimetype": "text/x-python",
   "name": "python",
   "nbconvert_exporter": "python",
   "pygments_lexer": "ipython3",
   "version": "3.7.3"
  }
 },
 "nbformat": 4,
 "nbformat_minor": 4
}
